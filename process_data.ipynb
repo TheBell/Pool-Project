{
 "cells": [
  {
   "cell_type": "code",
   "execution_count": 1,
   "metadata": {},
   "outputs": [],
   "source": [
    "import numpy as np\n",
    "import pandas as pd\n",
    "from matplotlib.patches import Circle\n",
    "import matplotlib.pyplot as plt\n",
    "import ast"
   ]
  },
  {
   "cell_type": "code",
   "execution_count": 2,
   "metadata": {},
   "outputs": [],
   "source": [
    "def convert_tuple(x):\n",
    "    try:\n",
    "        return ast.literal_eval(x)\n",
    "    except:\n",
    "        return np.nan\n",
    "\n",
    "converters = {str(i):convert_tuple for i in range(10)}"
   ]
  },
  {
   "cell_type": "code",
   "execution_count": 23,
   "metadata": {},
   "outputs": [],
   "source": [
    "df = pd.read_csv('Data/VideosHD/Alex Pagulayan vs Shaun Wilkie - 9 Ball - 2020 Derby City Classic.csv', index_col=0, converters=converters)"
   ]
  },
  {
   "cell_type": "code",
   "execution_count": 4,
   "metadata": {},
   "outputs": [],
   "source": [
    "pocket_loc = [(0,0), (-10,400), (0,800), (400,800), (410,400), (400,0)]\n",
    "\n",
    "colors = ['white', 'yellow', 'blue', 'red', 'purple', 'orange', 'lawngreen', 'aqua', 'black', 'goldenrod']\n",
    "\n",
    "def make_plot(balls):\n",
    "    fig, ax = plt.subplots(figsize=(2,4))\n",
    "    footspot = Circle((200, 600), 10, color='gray')\n",
    "    pockets = [Circle(pts, 25, color='black') for pts in pocket_loc]\n",
    "    _ = [ax.add_patch(p) for p in pockets]\n",
    "    ax.set_facecolor('deepskyblue')\n",
    "    plt.xlim((0,400))\n",
    "    plt.ylim((0,800))\n",
    "    ax.add_patch(footspot)\n",
    "    \n",
    "    for i in range(len(balls)-1):\n",
    "        if balls[i] is not np.nan:\n",
    "            ball = Circle(balls[i], 15, color=colors[i])\n",
    "            ax.add_patch(ball)\n",
    "\n",
    "    plt.show()"
   ]
  },
  {
   "cell_type": "code",
   "execution_count": 5,
   "metadata": {},
   "outputs": [],
   "source": [
    "def shot_angle(cue, ball, pocket):\n",
    "    '''\n",
    "    Returns the shot angle, args must be numpy arrays\n",
    "    '''\n",
    "    v_c2b = cue - ball\n",
    "    v_b2p = ball - pocket\n",
    "\n",
    "    unit_v_c2b = v_c2b / np.linalg.norm(v_c2b)\n",
    "    unit_v_b2p = v_b2p / np.linalg.norm(v_b2p)\n",
    "\n",
    "    dot = np.dot(unit_v_c2b, unit_v_b2p)\n",
    "    angle = np.arccos(dot)\n",
    "    angle = np.degrees(angle)\n",
    "    if angle > 90:  return angle - 90\n",
    "    return angle"
   ]
  },
  {
   "cell_type": "code",
   "execution_count": 34,
   "metadata": {},
   "outputs": [
    {
     "data": {
      "image/png": "[encoded data removed]",
      "text/plain": [
       "<Figure size 144x288 with 1 Axes>"
      ]
     },
     "metadata": {
      "needs_background": "light"
     },
     "output_type": "display_data"
    }
   ],
   "source": [
    "#df = df[df.iloc[:, 0].notnull()] # Remove frames with no cueball\n",
    "make_plot(df.iloc[19800])"
   ]
  },
  {
   "cell_type": "code",
   "execution_count": 82,
   "metadata": {},
   "outputs": [
    {
     "data": {
      "text/plain": [
       "0              (266, 200)\n",
       "1              (204, 574)\n",
       "2                     NaN\n",
       "3              (206, 638)\n",
       "4                     NaN\n",
       "5                     NaN\n",
       "6                     NaN\n",
       "7                     NaN\n",
       "8              (186, 607)\n",
       "9              (210, 611)\n",
       "orientation      Vertical\n",
       "Name: 1045, dtype: object"
      ]
     },
     "execution_count": 82,
     "metadata": {},
     "output_type": "execute_result"
    }
   ],
   "source": [
    "df.loc[1045]"
   ]
  },
  {
   "cell_type": "code",
   "execution_count": 6,
   "metadata": {},
   "outputs": [],
   "source": [
    "def going_towards_pocket(prev, cur):\n",
    "    '''\n",
    "    Returns if the ball is heading towards a pocket, and the pocket index\n",
    "    '''\n",
    "    x1, y1 = prev\n",
    "    x2, y2 = cur\n",
    "    \n",
    "    if x2 - x1 == 0:\n",
    "        return False, (-1,-1)\n",
    "    \n",
    "    m = (y2 - y1) / (x2 - x1)\n",
    "    \n",
    "    b = y1 - m * x1\n",
    "\n",
    "    # 1 if going right or 0 if not\n",
    "    direction = 1 if x2 - x1 > 0 else 0\n",
    "    \n",
    "    # Only consider pockets in same direction ball is heading\n",
    "    pockets = pocket_loc[3*direction:3*direction+3]\n",
    "    \n",
    "    for i, pock in enumerate(pockets, 3*direction):\n",
    "        y_pred = m * pock[0] + b\n",
    "        if np.absolute(y_pred - pock[1]) < 10:\n",
    "            return True, i\n",
    "    \n",
    "    return False, (-1, -1)"
   ]
  },
  {
   "cell_type": "code",
   "execution_count": 7,
   "metadata": {},
   "outputs": [],
   "source": [
    "def get_lowest_ball(row):\n",
    "    for i, b in enumerate(row[1:-1], 1):\n",
    "        if b is not np.nan:\n",
    "            return i\n",
    "    return -1"
   ]
  },
  {
   "cell_type": "code",
   "execution_count": 8,
   "metadata": {},
   "outputs": [],
   "source": [
    "def moved(prev, cur, min_dist=5):\n",
    "    if (prev is np.nan) or (cur is np.nan):\n",
    "        return False\n",
    "    return np.any(np.absolute(np.array(prev) - np.array(cur)) >  min_dist)"
   ]
  },
  {
   "cell_type": "code",
   "execution_count": 9,
   "metadata": {},
   "outputs": [],
   "source": [
    "def get_shots(df):\n",
    "    shots = []\n",
    "    prev_row = None\n",
    "    prev_ori = \"Vertical\"\n",
    "    lowest_ball = None\n",
    "    for i, row in df.iterrows():\n",
    "        if prev_row is None:\n",
    "            prev_row = row\n",
    "            \n",
    "        # Only check if orientation does not change\n",
    "        if prev_row[-1] == row[-1]:\n",
    "            if moved(prev_row[0], row[0]):\n",
    "                lowest_ball = get_lowest_ball(row)\n",
    "                if lowest_ball != -1: \n",
    "                    if moved(prev_row[lowest_ball], row[lowest_ball]):\n",
    "                        going, pocket = going_towards_pocket(prev_row[lowest_ball], row[lowest_ball])\n",
    "                        if going:\n",
    "                            shots.append((np.array(prev_row[0]), (np.array(prev_row[lowest_ball])),  np.array(pocket_loc[pocket])))\n",
    "        prev_row = row\n",
    "\n",
    "    return shots"
   ]
  },
  {
   "cell_type": "code",
   "execution_count": 235,
   "metadata": {},
   "outputs": [],
   "source": [
    "shots = get_shots(df)"
   ]
  },
  {
   "cell_type": "code",
   "execution_count": 239,
   "metadata": {},
   "outputs": [],
   "source": [
    "angles = list(set([shot_angle(*shot) for shot in shots]))"
   ]
  },
  {
   "cell_type": "code",
   "execution_count": 266,
   "metadata": {},
   "outputs": [
    {
     "data": {
      "image/png": "[encoded data removed]",
      "text/plain": [
       "<Figure size 432x288 with 1 Axes>"
      ]
     },
     "metadata": {
      "needs_background": "light"
     },
     "output_type": "display_data"
    }
   ],
   "source": [
    "plt.hist(angles)\n",
    "plt.title(\"Histogram of Shot Angles\")\n",
    "plt.xlabel(\"Angle (in degrees)\")\n",
    "plt.ylabel(\"Frequency\")\n",
    "plt.show()"
   ]
  },
  {
   "cell_type": "code",
   "execution_count": 267,
   "metadata": {},
   "outputs": [
    {
     "data": {
      "text/plain": [
       "(27.689122792478223, 20.277814553457414)"
      ]
     },
     "execution_count": 267,
     "metadata": {},
     "output_type": "execute_result"
    }
   ],
   "source": [
    "np.mean(angles), np.median(angles)"
   ]
  },
  {
   "cell_type": "code",
   "execution_count": 12,
   "metadata": {},
   "outputs": [],
   "source": [
    "def get_angles(df):\n",
    "    shots = get_shots(df)\n",
    "    angles = list(set([shot_angle(*shot) for shot in shots]))\n",
    "    return angles"
   ]
  },
  {
   "cell_type": "code",
   "execution_count": 10,
   "metadata": {},
   "outputs": [],
   "source": [
    "import glob\n",
    "\n",
    "files = glob.glob(\"Data/VideosHD/*.csv\")"
   ]
  },
  {
   "cell_type": "code",
   "execution_count": 13,
   "metadata": {},
   "outputs": [],
   "source": [
    "angles = []\n",
    "for f in files:\n",
    "    df = pd.read_csv(f, index_col=0, converters=converters)\n",
    "    angles.extend(get_angles(df))"
   ]
  },
  {
   "cell_type": "code",
   "execution_count": 16,
   "metadata": {},
   "outputs": [
    {
     "data": {
      "image/png": "[encoded data removed]",
      "text/plain": [
       "<Figure size 432x288 with 1 Axes>"
      ]
     },
     "metadata": {
      "needs_background": "light"
     },
     "output_type": "display_data"
    }
   ],
   "source": [
    "plt.hist(angles)\n",
    "plt.title(\"Histogram of Shot Angles\")\n",
    "plt.xlabel(\"Angle (in degrees)\")\n",
    "plt.ylabel(\"Frequency\")\n",
    "plt.show()"
   ]
  },
  {
   "cell_type": "code",
   "execution_count": 14,
   "metadata": {},
   "outputs": [
    {
     "data": {
      "text/plain": [
       "(27.244633854594692, 19.23557570517104)"
      ]
     },
     "execution_count": 14,
     "metadata": {},
     "output_type": "execute_result"
    }
   ],
   "source": [
    "np.mean(angles), np.median(angles)"
   ]
  },
  {
   "cell_type": "code",
   "execution_count": null,
   "metadata": {},
   "outputs": [],
   "source": []
  }
 ],
 "metadata": {
  "kernelspec": {
   "display_name": "Python 3",
   "language": "python",
   "name": "python3"
  },
  "language_info": {
   "codemirror_mode": {
    "name": "ipython",
    "version": 3
   },
   "file_extension": ".py",
   "mimetype": "text/x-python",
   "name": "python",
   "nbconvert_exporter": "python",
   "pygments_lexer": "ipython3",
   "version": "3.7.6"
  }
 },
 "nbformat": 4,
 "nbformat_minor": 4
}
